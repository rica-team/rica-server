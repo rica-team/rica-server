{
 "cells": [
  {
   "cell_type": "code",
   "execution_count": null,
   "id": "initial_id",
   "metadata": {
    "collapsed": true
   },
   "outputs": [],
   "source": [
    "%cd /content\n",
    "!git clone https://github.com/rica-team/rica-server.git\n",
    "%cd /content/rica-server\n",
    "\n",
    "!pip install transformers torch timm accelerate hf_xet\n",
    "\n",
    "from . import RiCA\n",
    "from .connector import transformers_adapter as tf\n",
    "\n",
    "app = RiCA()\n",
    "\n",
    "@app.register(\"sys.python.exec\", True, 1000)\n",
    "async def _sys_python_exec(input_, *args, **kwargs):\n",
    "    \"\"\"\n",
    "    A tool to execute Python code.\n",
    "    input:{\"code\": \"1+1\"}\n",
    "    output:{\"result\": \"2\"}\n",
    "    \"\"\"\n",
    "    try:\n",
    "        code = input_.get(\"code\", \"\")\n",
    "        result = eval(code)\n",
    "        return {\"result\": str(result)}\n",
    "    except Exception as e:\n",
    "        return {\"error\": str(e)}\n",
    "\n",
    "rt = tf.ReasoningThread(\"\")\n",
    "\n",
    "@rt.trigger\n",
    "def _output(content):\n",
    "    print(content)\n",
    "\n",
    "rt.insert(\"Please calculate 123*456 using `sys.python.exec` package.\")\n",
    "rt.wait()\n",
    "print(rt.context)\n",
    "rt.destroy()\n"
   ]
  }
 ],
 "metadata": {
  "kernelspec": {
   "display_name": "Python 3",
   "language": "python",
   "name": "python3"
  },
  "language_info": {
   "codemirror_mode": {
    "name": "ipython",
    "version": 2
   },
   "file_extension": ".py",
   "mimetype": "text/x-python",
   "name": "python",
   "nbconvert_exporter": "python",
   "pygments_lexer": "ipython2",
   "version": "2.7.6"
  }
 },
 "nbformat": 4,
 "nbformat_minor": 5
}
